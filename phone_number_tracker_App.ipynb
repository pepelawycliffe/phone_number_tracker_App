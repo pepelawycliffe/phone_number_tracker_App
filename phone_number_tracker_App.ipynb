{
 "cells": [
  {
   "cell_type": "code",
   "execution_count": 12,
   "metadata": {},
   "outputs": [
    {
     "name": "stdout",
     "output_type": "stream",
     "text": [
      "Country(alpha_2='KE', alpha_3='KEN', name='Kenya', numeric='404', official_name='Republic of Kenya')\n"
     ]
    }
   ],
   "source": [
    "import json \n",
    "import pycountry\n",
    "from tkinter import Tk, Label, Button, Entry\n",
    "from phone_iso3166.country import phone_country\n",
    "\n",
    "\n",
    "class Location_Tracker:\n",
    "    def __init__(self, App):\n",
    "        self.window = App\n",
    "        self.window.title(\"Phone number Tracker\")\n",
    "        self.window.geometry(\"500x400\")\n",
    "        self.window.configure(bg=\"#97fb3f\")\n",
    "        self.window.resizable(False, False)\n",
    "\n",
    "        #___________Application menu_____________\n",
    "        Label(App, text=\"Enter a phone number\",fg=\"white\", font=(\"Times\", 20), bg=\"#97fb3f\").place(x=150,y= 30)\n",
    "        self.phone_number = Entry(App, width=16, font=(\"Arial\", 15), relief=\"flat\")\n",
    "        self.track_button = Button(App, text=\"Track Country\", bg=\"#c3b322\", relief=\"sunken\")\n",
    "        self.country_label = Label(App,fg=\"white\", font=(\"Times\", 20), bg=\"#97fb3f\")\n",
    "\n",
    "        #___________Place widgets on the window______\n",
    "        self.phone_number.place(x=170, y=120)\n",
    "        self.track_button.place(x=200, y=200)\n",
    "        self.country_label.place(x=100, y=280)\n",
    "\n",
    "        #__________Linking button with countries ________\n",
    "        self.track_button.bind(\"<Button-1>\", self.Track_location)\n",
    "        #+254707954632\n",
    "    \n",
    "    def Track_location(self,event):\n",
    "        phone_number = self.phone_number.get()\n",
    "        country = \"Country is Unknown\"\n",
    "        if phone_number:\n",
    "            tracked = pycountry.countries.get(alpha_2=phone_country(phone_number))\n",
    "            print(tracked)\n",
    "            if tracked:\n",
    "                    if hasattr(tracked, \"official_name\"):\n",
    "                        country = tracked.official_name\n",
    "                    else:\n",
    "                        country = tracked.name\n",
    "        self.country_label.configure(text=country)\n",
    "\n",
    "\n",
    "\n",
    "PhoneTracker = Tk()\n",
    "MyApp = Location_Tracker(PhoneTracker)\n",
    "PhoneTracker.mainloop()"
   ]
  },
  {
   "cell_type": "code",
   "execution_count": null,
   "metadata": {},
   "outputs": [],
   "source": []
  },
  {
   "cell_type": "code",
   "execution_count": null,
   "metadata": {},
   "outputs": [],
   "source": []
  }
 ],
 "metadata": {
  "kernelspec": {
   "display_name": "Python 3",
   "language": "python",
   "name": "python3"
  }
 },
 "nbformat": 4,
 "nbformat_minor": 4
}
